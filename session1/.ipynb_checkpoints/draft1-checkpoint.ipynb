{
 "cells": [
  {
   "cell_type": "markdown",
   "metadata": {
    "slideshow": {
     "slide_type": "slide"
    }
   },
   "source": [
    "# The RUV Package "
   ]
  },
  {
   "cell_type": "markdown",
   "metadata": {
    "slideshow": {
     "slide_type": "fragment"
    }
   },
   "source": [
    "\"ruv\" on CRAN"
   ]
  },
  {
   "cell_type": "markdown",
   "metadata": {
    "slideshow": {
     "slide_type": "slide"
    }
   },
   "source": [
    "# RUV Methods\n",
    "\n",
    "<table style=\"width:60%\">\n",
    "  <tr style=\"background-color:#FFFFFF\">\n",
    "    <th style=\"text-align:left;font-size:18px;border:0 none\">Regression Methods</td>\n",
    "    <th style=\"text-align:left;font-size:18px;border:0 none\">Global Adjustments</td>\n",
    "  </tr>    \n",
    "  <tr style=\"background-color:#FFFFFF\">\n",
    "    <td style=\"text-align:left;font-size:18px;font-family:monospace;border:0 none\">RUV2</td>\n",
    "    <td style=\"text-align:left;font-size:18px;font-family:monospace;border:0 none\">RUVI</td>\n",
    "  </tr>\n",
    "  <tr style=\"background-color:#FFFFFF\">\n",
    "    <td style=\"text-align:left;font-size:18px;font-family:monospace;border:0 none\">RUV4</td>\n",
    "    <td style=\"text-align:left;font-size:18px;font-family:monospace;border:0 none\">RUVIII</td>\n",
    "  </tr>\n",
    "  <tr style=\"background-color:#FFFFFF\">\n",
    "    <td style=\"text-align:left;font-size:18px;font-family:monospace;border:0 none\">RUVinv</td>\n",
    "    <td style=\"text-align:left;font-size:18px;font-family:monospace;border:0 none\">  </td>\n",
    "  </tr>\n",
    "  <tr style=\"background-color:#FFFFFF\">\n",
    "    <td style=\"text-align:left;font-size:18px;font-family:monospace;border:0 none\">RUVrinv</td>\n",
    "    <td style=\"text-align:left;font-size:18px;font-family:monospace;border:0 none\">  </td>\n",
    "  </tr>\n",
    "</table> \n",
    "\n"
   ]
  },
  {
   "cell_type": "markdown",
   "metadata": {
    "slideshow": {
     "slide_type": "slide"
    }
   },
   "source": [
    "# Regression Methods\n",
    "\n",
    "Common syntax:\n",
    "\n",
    "```R\n",
    "RUV2    (Y, X, ctl, k, Z = 1, eta = NULL             ) \n",
    "RUV4    (Y, X, ctl, k, Z = 1, eta = NULL             ) \n",
    "RUVinv  (Y, X, ctl,    Z = 1, eta = NULL             ) \n",
    "RUVrinv (Y, X, ctl,    Z = 1, eta = NULL, lambda=NULL) \n",
    "```"
   ]
  },
  {
   "cell_type": "markdown",
   "metadata": {
    "slideshow": {
     "slide_type": "slide"
    }
   },
   "source": [
    "# Regression Methods\n",
    "\n",
    "Function Arguments:\n",
    "\n",
    "| Argument | Meaning                 | Example    | Data Type                             | Notes                       |\n",
    "| ----     | ----------------------- | ---------  | ------------------------------------  | --------------------------- |\n",
    "| Y        | Expression data         |            | Matrix                                | row = sample, column = gene |\n",
    "| X        | Factor of interest      | gender     | matrix, factor, vector, or data frame |                             |\n",
    "| ctl      | Neg. Controls           | spike-ins  | index (logical or integer vector)     |                             |\n",
    "| Z        | array-wise covariates   | batch      | matrix, factor, vector, or data frame | 1 for intercept             |\n",
    "| eta      | gene-wise covariates    | GC content | matrix, factor, vector, or data frame | 1 for intercept             |\n",
    "| k        | # of unwanted factors   |            | integer                               | 0 for no adjustment         |\n",
    "| lambda   | ridge parameter         |            | numeric                               | NULL for sensible default   |\n",
    "\n"
   ]
  },
  {
   "cell_type": "markdown",
   "metadata": {
    "slideshow": {
     "slide_type": "slide"
    }
   },
   "source": [
    "# Y"
   ]
  },
  {
   "cell_type": "markdown",
   "metadata": {
    "slideshow": {
     "slide_type": "fragment"
    }
   },
   "source": [
    "* Expression Data"
   ]
  },
  {
   "cell_type": "markdown",
   "metadata": {
    "slideshow": {
     "slide_type": "fragment"
    }
   },
   "source": [
    "* $m \\times n$ matrix, where  \n",
    "  * $m$ is the number arrays  \n",
    "  * $n$ is the number of genes"
   ]
  },
  {
   "cell_type": "markdown",
   "metadata": {
    "slideshow": {
     "slide_type": "fragment"
    }
   },
   "source": [
    "* Should be log transformed"
   ]
  },
  {
   "cell_type": "markdown",
   "metadata": {
    "slideshow": {
     "slide_type": "fragment"
    }
   },
   "source": [
    "* Usually best **not** to preprocess (quantile normalize, etc.)"
   ]
  },
  {
   "cell_type": "markdown",
   "metadata": {
    "slideshow": {
     "slide_type": "slide"
    }
   },
   "source": [
    "# X"
   ]
  },
  {
   "cell_type": "markdown",
   "metadata": {
    "slideshow": {
     "slide_type": "fragment"
    }
   },
   "source": [
    "* Factor of interest (gender, brain region, etc.)"
   ]
  },
  {
   "cell_type": "markdown",
   "metadata": {
    "slideshow": {
     "slide_type": "fragment"
    }
   },
   "source": [
    "* Should **not** include the intercept"
   ]
  },
  {
   "cell_type": "markdown",
   "metadata": {
    "slideshow": {
     "slide_type": "fragment"
    }
   },
   "source": [
    "* Rule of thumb: \"The fewer factors, the better\"\n",
    "  * More factors in $X$ $\\implies$ fewer factors estimated in $\\hat{W}$\n",
    "  * Better to repeat analysis for each factor of interest separately"
   ]
  },
  {
   "cell_type": "markdown",
   "metadata": {
    "slideshow": {
     "slide_type": "slide"
    }
   },
   "source": [
    "# Z"
   ]
  },
  {
   "cell_type": "markdown",
   "metadata": {
    "slideshow": {
     "slide_type": "fragment"
    }
   },
   "source": [
    "* Additional covariates (batch, etc.)"
   ]
  },
  {
   "cell_type": "markdown",
   "metadata": {
    "slideshow": {
     "slide_type": "fragment"
    }
   },
   "source": [
    "* Should include the intercept (if desired)"
   ]
  },
  {
   "cell_type": "markdown",
   "metadata": {
    "slideshow": {
     "slide_type": "fragment"
    }
   },
   "source": [
    "* Rule of thumb: \"The fewer factors, the better\"\n",
    "  * More factors in $Z$ $\\implies$ fewer factors estimated in $\\hat{W}$\n",
    "  * $\\hat{W}$ often captures unwanted variation better than $Z$  \n",
    "  * Exception: $Z$ is a factor that affects only a small number of genes, and likely the same genes as $X$.  \n",
    "    Example: $X$ is a disease that affects a small number of genes; $Z$ is a drug that affects those same genes"
   ]
  },
  {
   "cell_type": "markdown",
   "metadata": {
    "slideshow": {
     "slide_type": "slide"
    }
   },
   "source": [
    "# eta ($\\eta$)"
   ]
  },
  {
   "cell_type": "markdown",
   "metadata": {
    "slideshow": {
     "slide_type": "fragment"
    }
   },
   "source": [
    "* Gene-wise covariates ***associated with unwanted factors*** (GC content, etc.)"
   ]
  },
  {
   "cell_type": "markdown",
   "metadata": {
    "slideshow": {
     "slide_type": "fragment"
    }
   },
   "source": [
    "* Included for convenience; equivalent to preprocessing by\n",
    "```R\n",
    "Y = RUVI(Y, eta, ctl)\n",
    "```"
   ]
  },
  {
   "cell_type": "markdown",
   "metadata": {
    "slideshow": {
     "slide_type": "fragment"
    }
   },
   "source": [
    "* eta = 1 (for intercept) typically recommended, but **not** default"
   ]
  },
  {
   "cell_type": "markdown",
   "metadata": {
    "slideshow": {
     "slide_type": "slide"
    }
   },
   "source": [
    "# ctl"
   ]
  },
  {
   "cell_type": "markdown",
   "metadata": {
    "slideshow": {
     "slide_type": "fragment"
    }
   },
   "source": [
    "* Crucial to success"
   ]
  },
  {
   "cell_type": "markdown",
   "metadata": {
    "slideshow": {
     "slide_type": "fragment"
    }
   },
   "source": [
    "* Ideally:\n",
    "  * Unaffected by factor of interest\n",
    "  * Affected by unwanted factors\n",
    "  * \"representative\" of other genes  \n",
    "    (similar range of expressions, not affected by their own unwanted factors, etc.)"
   ]
  },
  {
   "cell_type": "markdown",
   "metadata": {
    "slideshow": {
     "slide_type": "fragment"
    }
   },
   "source": [
    "* **Cannot be automatically \"discovered\" from the data**  \n",
    "  (at least not naively)"
   ]
  },
  {
   "cell_type": "markdown",
   "metadata": {
    "slideshow": {
     "slide_type": "fragment"
    }
   },
   "source": [
    "* **Need not be perfect**  \n",
    "  RUV methods are robust (to varying degrees, and in different ways)"
   ]
  },
  {
   "cell_type": "markdown",
   "metadata": {
    "slideshow": {
     "slide_type": "slide"
    }
   },
   "source": [
    "# k"
   ]
  },
  {
   "cell_type": "markdown",
   "metadata": {
    "slideshow": {
     "slide_type": "fragment"
    }
   },
   "source": [
    "* Number of unwanted factors.  For RUV2 and RUV4 only."
   ]
  },
  {
   "cell_type": "markdown",
   "metadata": {
    "slideshow": {
     "slide_type": "fragment"
    }
   },
   "source": [
    "* Useful when negative controls may contain biology.  \n",
    "  Keeping $k$ small reduces risk of overadjusting."
   ]
  },
  {
   "cell_type": "markdown",
   "metadata": {
    "slideshow": {
     "slide_type": "fragment"
    }
   },
   "source": [
    "* Best chosen \"by hand\".  \n",
    "  (\"getK\" function not ideal)"
   ]
  },
  {
   "cell_type": "markdown",
   "metadata": {
    "slideshow": {
     "slide_type": "slide"
    }
   },
   "source": [
    "# Comparison of Regression Methods\n",
    "\n",
    "| Method   | Strengths                | Weaknesses                     | Notes                      |\n",
    "| ----     | ------------------------ | -----------                    | -----                      |\n",
    "| RUV2     | Simple and interpretable | Sensitive to misspecified NCs  | Good for spike-in controls |\n",
    "|          | Not too sensitive to     |                                |  Keep k small if NCs may be |\n",
    "|          | \"nonrepresentative\" NCs  |                                |  misspecified |\n"
   ]
  },
  {
   "cell_type": "markdown",
   "metadata": {
    "slideshow": {
     "slide_type": "slide"
    }
   },
   "source": [
    "# Comparison of Regression Methods\n",
    "\n",
    "<table style=\"width:100%\">\n",
    "  <tr>\n",
    "    <th style=\"text-align:left;font-size:18px;width:15%;border:0 none\">Method</td>\n",
    "    <th style=\"text-align:left;font-size:18px;border:0 none\">Strengths</td>\n",
    "    <th style=\"text-align:left;font-size:18px;border:0 none\">Weaknesses</td>\n",
    "    <th style=\"text-align:left;font-size:18px;border:0 none\">Notes</td>\n",
    "  </tr>    \n",
    "  <tr>\n",
    "    <td style=\"text-align:left;vertical-align:top;font-size:14px;width:15%;border:0 none\">RUV2</td>\n",
    "    <td style=\"text-align:left;vertical-align:top;font-size:14px;border:0 none\"> <ul> \n",
    "                                                              <li>Simple and Interpretable </li>\n",
    "                                                              <li>Not too sensitive to \"nonrepresentative\" NCs</li>\n",
    "                                                              </ul></td>\n",
    "    <td style=\"text-align:left;vertical-align:top;font-size:14px;border:0 none\"> <ul> \n",
    "                                                              <li>Sensitive to misspecified NCs </li>\n",
    "                                                              </ul></td>\n",
    "    <td style=\"text-align:left;vertical-align:top;font-size:14px;border:0 none\"> <ul> \n",
    "                                                              <li>Good for spike-in controls </li>\n",
    "                                                              <li>Keep k small if NCs may be misspecified</li>\n",
    "                                                              </ul></td>\n",
    "  </tr>\n",
    "  <tr>\n",
    "    <td style=\"text-align:left;vertical-align:top;font-size:14px;width:15%;border:0 none\">RUV4</td>\n",
    "    <td style=\"text-align:left;vertical-align:top;font-size:14px;border:0 none\"> <ul> \n",
    "                                                              <li>Robust to misspecified NCs</li>\n",
    "                                                              </ul></td>\n",
    "    <td style=\"text-align:left;vertical-align:top;font-size:14px;border:0 none\"> <ul> \n",
    "                                                              <li>Sensitive to \"nonrepresentative\" NCs </li>\n",
    "                                                              <li>Anti-conservaitve for large k </li>\n",
    "                                                              </ul></td>\n",
    "    <td style=\"text-align:left;vertical-align:top;font-size:14px;border:0 none\"> <ul> \n",
    "                                                              <li>RUV(r)inv usually a better option </li>\n",
    "                                                              <li>Good when NCs highly misspecified; keep k small</li>\n",
    "                                                              </ul></td>\n",
    "  </tr>\n",
    "  <tr>\n",
    "    <td style=\"text-align:left;vertical-align:top;font-size:14px;width:15%;border:0 none\">RUVinv</td>\n",
    "    <td style=\"text-align:left;vertical-align:top;font-size:14px;border:0 none\"> <ul> \n",
    "                                                              <li>Robust to misspecified NCs</li>\n",
    "                                                              <li>No tuning parameter </li>\n",
    "                                                              <li>Well calibrated p-values</li>\n",
    "                                                              </ul></td>\n",
    "    <td style=\"text-align:left;vertical-align:top;font-size:14px;border:0 none\"> <ul> \n",
    "                                                              <li>Requires large number of NCs </li>\n",
    "                                                              <li>Somewhat sensitive to \"nonrepresentative\" NCs </li>\n",
    "                                                              </ul></td>\n",
    "    <td style=\"text-align:left;vertical-align:top;font-size:14px;border:0 none\"> </td>\n",
    "  </tr>\n",
    "  <tr>\n",
    "    <td style=\"text-align:left;vertical-align:top;font-size:14px;width:15%;border:0 none\">RUVrinv</td>\n",
    "    <td style=\"text-align:left;vertical-align:top;font-size:14px;border:0 none\"> <ul> \n",
    "                                                              <li>Robust to misspecified NCs</li>\n",
    "                                                              <li>Reasonable default for lambda </li>\n",
    "                                                              </ul></td>\n",
    "    <td style=\"text-align:left;vertical-align:top;font-size:14px;border:0 none\"> <ul> \n",
    "                                                              <li>Somewhat sensitive to \"nonrepresentative\" NCs </li>\n",
    "                                                              </ul></td>\n",
    "    <td style=\"text-align:left;vertical-align:top;font-size:14px;border:0 none\"> <ul> \n",
    "                                                              <li>Good compromise of features </li>\n",
    "                                                              </ul></td>\n",
    "  </tr>\n",
    "</table> \n",
    "\n"
   ]
  },
  {
   "cell_type": "markdown",
   "metadata": {
    "slideshow": {
     "slide_type": "slide"
    }
   },
   "source": [
    "# Technical Note\n",
    "\n",
    "* RUV2 requires \n",
    "  $$\\beta_c = 0$$\n",
    "* RUV4, RUVinv, and RUVrinv require\n",
    "  $$ \\beta_c \\alpha_c' (\\alpha_c \\alpha_c')^{-1} \\approx 0$$\n",
    "\n"
   ]
  },
  {
   "cell_type": "markdown",
   "metadata": {
    "slideshow": {
     "slide_type": "fragment"
    }
   },
   "source": [
    "* "
   ]
  },
  {
   "cell_type": "markdown",
   "metadata": {
    "slideshow": {
     "slide_type": "fragment"
    }
   },
   "source": [
    "* "
   ]
  },
  {
   "cell_type": "markdown",
   "metadata": {
    "slideshow": {
     "slide_type": "fragment"
    }
   },
   "source": [
    "* "
   ]
  }
 ],
 "metadata": {
  "celltoolbar": "Slideshow",
  "kernelspec": {
   "display_name": "R",
   "language": "R",
   "name": "ir"
  },
  "language_info": {
   "codemirror_mode": "r",
   "file_extension": ".r",
   "mimetype": "text/x-r-source",
   "name": "R",
   "pygments_lexer": "r",
   "version": "3.4.3"
  }
 },
 "nbformat": 4,
 "nbformat_minor": 2
}
