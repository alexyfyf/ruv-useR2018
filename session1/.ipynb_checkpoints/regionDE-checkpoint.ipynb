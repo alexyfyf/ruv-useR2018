{
 "cells": [
  {
   "cell_type": "code",
   "execution_count": 1,
   "metadata": {},
   "outputs": [
    {
     "data": {
      "text/html": [
       "<ol class=list-inline>\n",
       "\t<li>'geneinfo'</li>\n",
       "\t<li>'sampleinfo'</li>\n",
       "\t<li>'Y.norm'</li>\n",
       "\t<li>'Y.raw'</li>\n",
       "</ol>\n"
      ],
      "text/latex": [
       "\\begin{enumerate*}\n",
       "\\item 'geneinfo'\n",
       "\\item 'sampleinfo'\n",
       "\\item 'Y.norm'\n",
       "\\item 'Y.raw'\n",
       "\\end{enumerate*}\n"
      ],
      "text/markdown": [
       "1. 'geneinfo'\n",
       "2. 'sampleinfo'\n",
       "3. 'Y.norm'\n",
       "4. 'Y.raw'\n",
       "\n",
       "\n"
      ],
      "text/plain": [
       "[1] \"geneinfo\"   \"sampleinfo\" \"Y.norm\"     \"Y.raw\"     "
      ]
     },
     "metadata": {},
     "output_type": "display_data"
    }
   ],
   "source": [
    "load(\"gender.rda\")\n",
    "ls()"
   ]
  },
  {
   "cell_type": "code",
   "execution_count": 2,
   "metadata": {},
   "outputs": [
    {
     "data": {
      "text/html": [
       "<ol class=list-inline>\n",
       "\t<li>'genechroms'</li>\n",
       "\t<li>'geneinfo'</li>\n",
       "\t<li>'genenames'</li>\n",
       "\t<li>'genesyms'</li>\n",
       "\t<li>'sampleinfo'</li>\n",
       "\t<li>'Y.norm'</li>\n",
       "\t<li>'Y.raw'</li>\n",
       "</ol>\n"
      ],
      "text/latex": [
       "\\begin{enumerate*}\n",
       "\\item 'genechroms'\n",
       "\\item 'geneinfo'\n",
       "\\item 'genenames'\n",
       "\\item 'genesyms'\n",
       "\\item 'sampleinfo'\n",
       "\\item 'Y.norm'\n",
       "\\item 'Y.raw'\n",
       "\\end{enumerate*}\n"
      ],
      "text/markdown": [
       "1. 'genechroms'\n",
       "2. 'geneinfo'\n",
       "3. 'genenames'\n",
       "4. 'genesyms'\n",
       "5. 'sampleinfo'\n",
       "6. 'Y.norm'\n",
       "7. 'Y.raw'\n",
       "\n",
       "\n"
      ],
      "text/plain": [
       "[1] \"genechroms\" \"geneinfo\"   \"genenames\"  \"genesyms\"   \"sampleinfo\"\n",
       "[6] \"Y.norm\"     \"Y.raw\"     "
      ]
     },
     "metadata": {},
     "output_type": "display_data"
    }
   ],
   "source": [
    "load(\"hgu95a.dat\")\n",
    "ls()"
   ]
  },
  {
   "cell_type": "code",
   "execution_count": 3,
   "metadata": {},
   "outputs": [],
   "source": [
    "geneinfo = cbind(geneinfo, fullname=genenames)[,c(1,2,7,3,4,5,6)]"
   ]
  },
  {
   "cell_type": "code",
   "execution_count": 4,
   "metadata": {},
   "outputs": [],
   "source": [
    "geneinfo = cbind(geneinfo, pctl.neur = grepl(\"neur\", geneinfo$fullname))"
   ]
  },
  {
   "cell_type": "code",
   "execution_count": 5,
   "metadata": {},
   "outputs": [],
   "source": [
    "library(ruv)"
   ]
  },
  {
   "cell_type": "code",
   "execution_count": 6,
   "metadata": {},
   "outputs": [],
   "source": [
    "sampleinfo$cortex = !sampleinfo$region==\"cerebellum\""
   ]
  },
  {
   "cell_type": "code",
   "execution_count": 7,
   "metadata": {
    "scrolled": false
   },
   "outputs": [
    {
     "name": "stderr",
     "output_type": "stream",
     "text": [
      "Loading required package: shiny\n",
      "Loading required package: ggplot2\n",
      "Loading required package: colourpicker\n",
      "\n",
      "Attaching package: ‘colourpicker’\n",
      "\n",
      "The following object is masked from ‘package:shiny’:\n",
      "\n",
      "    runExample\n",
      "\n",
      "Loading required package: scales\n",
      "\n",
      "Listening on http://127.0.0.1:3840\n",
      "Loading required package: gridExtra\n",
      "Warning message in RUVrinv(Y, X, ctl):\n",
      "“Neither lambda nor k are specified, so a call to getK will be made.  But p > 1 and l is not specified.  Arbitrarily setting l = 1.”Warning message in check.X.col(fit, X.col):\n",
      "“X.col must be an integer between 1 and 1 or one of the following character strings: X1.TRUE”Warning message in check.X.col(fit, X.col):\n",
      "“X.col must be an integer between 1 and 1 or one of the following character strings: X1.TRUE”Warning message in check.X.col(fit, X.col):\n",
      "“X.col must be an integer between 1 and 1 or one of the following character strings: X1.TRUE”Warning message:\n",
      "“The shape palette can deal with a maximum of 6 discrete values because\n",
      "more than 6 becomes difficult to discriminate; you have 10. Consider\n",
      "specifying shapes manually if you must have them.”Warning message:\n",
      "“Removed 12 rows containing missing values (geom_point).”Warning message:\n",
      "“The shape palette can deal with a maximum of 6 discrete values because\n",
      "more than 6 becomes difficult to discriminate; you have 10. Consider\n",
      "specifying shapes manually if you must have them.”Warning message:\n",
      "“Removed 12 rows containing missing values (geom_point).”Warning message:\n",
      "“The shape palette can deal with a maximum of 6 discrete values because\n",
      "more than 6 becomes difficult to discriminate; you have 10. Consider\n",
      "specifying shapes manually if you must have them.”Warning message:\n",
      "“Removed 12 rows containing missing values (geom_point).”Warning message:\n",
      "“The shape palette can deal with a maximum of 6 discrete values because\n",
      "more than 6 becomes difficult to discriminate; you have 10. Consider\n",
      "specifying shapes manually if you must have them.”Warning message:\n",
      "“Removed 12 rows containing missing values (geom_point).”Warning message:\n",
      "“The shape palette can deal with a maximum of 6 discrete values because\n",
      "more than 6 becomes difficult to discriminate; you have 10. Consider\n",
      "specifying shapes manually if you must have them.”Warning message:\n",
      "“Removed 12 rows containing missing values (geom_point).”Warning message:\n",
      "“The shape palette can deal with a maximum of 6 discrete values because\n",
      "more than 6 becomes difficult to discriminate; you have 10. Consider\n",
      "specifying shapes manually if you must have them.”Warning message:\n",
      "“Removed 12 rows containing missing values (geom_point).”Warning message:\n",
      "“The shape palette can deal with a maximum of 6 discrete values because\n",
      "more than 6 becomes difficult to discriminate; you have 10. Consider\n",
      "specifying shapes manually if you must have them.”Warning message:\n",
      "“Removed 12 rows containing missing values (geom_point).”Warning message:\n",
      "“The shape palette can deal with a maximum of 6 discrete values because\n",
      "more than 6 becomes difficult to discriminate; you have 10. Consider\n",
      "specifying shapes manually if you must have them.”Warning message:\n",
      "“Removed 12 rows containing missing values (geom_point).”Warning message in check.X.col(fit, X.col):\n",
      "“X.col must be an integer between 1 and 2 or one of the following character strings: X1.cerebellum X1.D.L.P.F. cortex”Warning message in check.X.col(fit, X.col):\n",
      "“X.col must be an integer between 1 and 2 or one of the following character strings: X1.cerebellum X1.D.L.P.F. cortex”Warning message in check.X.col(fit, X.col):\n",
      "“X.col must be an integer between 1 and 2 or one of the following character strings: X1.cerebellum X1.D.L.P.F. cortex”Warning message:\n",
      "“Error in [.data.frame: undefined columns selected”Stack trace (innermost first):\n",
      "    128: [.data.frame\n",
      "    127: [\n",
      "    126: renderTable\n",
      "    125: func\n",
      "    124: origRenderFunc\n",
      "    123: output$volbrush_info\n",
      "     48: <Anonymous>\n",
      "     47: do.call\n",
      "     46: print.shiny.appobj\n",
      "     45: print\n",
      "     44: eval\n",
      "     43: eval\n",
      "     42: withVisible\n",
      "     41: evalVis\n",
      "     40: capture.output\n",
      "     39: paste\n",
      "     38: repr_text.default\n",
      "     37: mime2repr[[mime]]\n",
      "     36: withCallingHandlers\n",
      "     35: doTryCatch\n",
      "     34: tryCatchOne\n",
      "     33: tryCatchList\n",
      "     32: tryCatch\n",
      "     31: FUN\n",
      "     30: lapply\n",
      "     29: sapply\n",
      "     28: lapply\n",
      "     27: unlist\n",
      "     26: Filter\n",
      "     25: filter_map\n",
      "     24: prepare_mimebundle\n",
      "     23: prepare_mimebundle_kernel\n",
      "     22: value_fun\n",
      "     21: withVisible\n",
      "     20: withCallingHandlers\n",
      "     19: doTryCatch\n",
      "     18: tryCatchOne\n",
      "     17: tryCatchList\n",
      "     16: tryCatch\n",
      "     15: try\n",
      "     14: handle\n",
      "     13: evaluate_call\n",
      "     12: evaluate\n",
      "     11: doTryCatch\n",
      "     10: tryCatchOne\n",
      "      9: tryCatchList\n",
      "      8: doTryCatch\n",
      "      7: tryCatchOne\n",
      "      6: tryCatchList\n",
      "      5: tryCatch\n",
      "      4: executor$execute\n",
      "      3: handle_shell\n",
      "      2: kernel$run\n",
      "      1: IRkernel::main\n"
     ]
    }
   ],
   "source": [
    "ruv_shiny(Y.raw, sampleinfo, geneinfo)"
   ]
  },
  {
   "cell_type": "code",
   "execution_count": null,
   "metadata": {},
   "outputs": [],
   "source": [
    "newY = RUVI(Y.raw, 1, geneinfo$spikectl)\n",
    "M = replicate.matrix(sampleinfo[,c(\"patient\", \"region\")])\n",
    "newY = RUVIII(newY, M, geneinfo$spikectl, k=4, average=TRUE)\n",
    "newsampleinfo = collapse.replicates(sampleinfo, M)\n",
    "fit = RUV4(newY, newsampleinfo$cortex, rep(TRUE,ncol(newY)), k=1)\n",
    "fit = ruv_summary(newY, fit, newsampleinfo, geneinfo)"
   ]
  },
  {
   "cell_type": "code",
   "execution_count": 40,
   "metadata": {},
   "outputs": [
    {
     "data": {},
     "metadata": {},
     "output_type": "display_data"
    },
    {
     "data": {
      "text/html": [
       "0.440634920634921"
      ],
      "text/latex": [
       "0.440634920634921"
      ],
      "text/markdown": [
       "0.440634920634921"
      ],
      "text/plain": [
       "[1] 0.4406349"
      ]
     },
     "metadata": {},
     "output_type": "display_data"
    },
    {
     "data": {
      "text/html": [
       "0.401507936507936"
      ],
      "text/latex": [
       "0.401507936507936"
      ],
      "text/markdown": [
       "0.401507936507936"
      ],
      "text/plain": [
       "[1] 0.4015079"
      ]
     },
     "metadata": {},
     "output_type": "display_data"
    },
    {
     "data": {
      "image/png": "[encoded data removed]",
      "text/plain": [
       "plot without title"
      ]
     },
     "metadata": {},
     "output_type": "display_data"
    }
   ],
   "source": [
    "ruv_ecdf(fit, uniform.lines=seq(0,1,by=.1))\n",
    "mean(fit$C$F.p > .25)\n",
    "mean(fit$C$F.p.BH > .5)"
   ]
  },
  {
   "cell_type": "code",
   "execution_count": 42,
   "metadata": {},
   "outputs": [],
   "source": [
    "ectl = colnames(newY) %in% rownames(fit$C)[fit$C$F.p.BH > .5]\n",
    "geneinfo = cbind(geneinfo, neg.cer=ectl)"
   ]
  },
  {
   "cell_type": "code",
   "execution_count": 43,
   "metadata": {},
   "outputs": [
    {
     "name": "stderr",
     "output_type": "stream",
     "text": [
      "\n",
      "Listening on http://127.0.0.1:3840\n",
      "Warning message in check.X.col(fit, X.col):\n",
      "“X.col must be an integer between 1 and 2 or one of the following character strings: X1.cerebellum X1.D.L.P.F. cortex”Warning message in check.X.col(fit, X.col):\n",
      "“X.col must be an integer between 1 and 2 or one of the following character strings: X1.cerebellum X1.D.L.P.F. cortex”Warning message in check.X.col(fit, X.col):\n",
      "“X.col must be an integer between 1 and 2 or one of the following character strings: X1.cerebellum X1.D.L.P.F. cortex”Warning message:\n",
      "“Error in if: argument is of length zero”Stack trace (innermost first):\n",
      "    139: ruv_projectionplot\n",
      "    138: <reactive>\n",
      "    127: ggpplot\n",
      "    126: renderTable\n",
      "    125: func\n",
      "    124: origRenderFunc\n",
      "    123: output$ppbrush_info\n",
      "     48: <Anonymous>\n",
      "     47: do.call\n",
      "     46: print.shiny.appobj\n",
      "     45: print\n",
      "     44: eval\n",
      "     43: eval\n",
      "     42: withVisible\n",
      "     41: evalVis\n",
      "     40: capture.output\n",
      "     39: paste\n",
      "     38: repr_text.default\n",
      "     37: mime2repr[[mime]]\n",
      "     36: withCallingHandlers\n",
      "     35: doTryCatch\n",
      "     34: tryCatchOne\n",
      "     33: tryCatchList\n",
      "     32: tryCatch\n",
      "     31: FUN\n",
      "     30: lapply\n",
      "     29: sapply\n",
      "     28: lapply\n",
      "     27: unlist\n",
      "     26: Filter\n",
      "     25: filter_map\n",
      "     24: prepare_mimebundle\n",
      "     23: prepare_mimebundle_kernel\n",
      "     22: value_fun\n",
      "     21: withVisible\n",
      "     20: withCallingHandlers\n",
      "     19: doTryCatch\n",
      "     18: tryCatchOne\n",
      "     17: tryCatchList\n",
      "     16: tryCatch\n",
      "     15: try\n",
      "     14: handle\n",
      "     13: evaluate_call\n",
      "     12: evaluate\n",
      "     11: doTryCatch\n",
      "     10: tryCatchOne\n",
      "      9: tryCatchList\n",
      "      8: doTryCatch\n",
      "      7: tryCatchOne\n",
      "      6: tryCatchList\n",
      "      5: tryCatch\n",
      "      4: executor$execute\n",
      "      3: handle_shell\n",
      "      2: kernel$run\n",
      "      1: IRkernel::main\n",
      "Warning message:\n",
      "“Error in :: argument of length 0”Stack trace (innermost first):\n",
      "    129: <Anonymous>\n",
      "    128: stop\n",
      "    127: ggpplot\n",
      "    126: renderTable\n",
      "    125: func\n",
      "    124: origRenderFunc\n",
      "    123: output$ppbrush_info\n",
      "     48: <Anonymous>\n",
      "     47: do.call\n",
      "     46: print.shiny.appobj\n",
      "     45: print\n",
      "     44: eval\n",
      "     43: eval\n",
      "     42: withVisible\n",
      "     41: evalVis\n",
      "     40: capture.output\n",
      "     39: paste\n",
      "     38: repr_text.default\n",
      "     37: mime2repr[[mime]]\n",
      "     36: withCallingHandlers\n",
      "     35: doTryCatch\n",
      "     34: tryCatchOne\n",
      "     33: tryCatchList\n",
      "     32: tryCatch\n",
      "     31: FUN\n",
      "     30: lapply\n",
      "     29: sapply\n",
      "     28: lapply\n",
      "     27: unlist\n",
      "     26: Filter\n",
      "     25: filter_map\n",
      "     24: prepare_mimebundle\n",
      "     23: prepare_mimebundle_kernel\n",
      "     22: value_fun\n",
      "     21: withVisible\n",
      "     20: withCallingHandlers\n",
      "     19: doTryCatch\n",
      "     18: tryCatchOne\n",
      "     17: tryCatchList\n",
      "     16: tryCatch\n",
      "     15: try\n",
      "     14: handle\n",
      "     13: evaluate_call\n",
      "     12: evaluate\n",
      "     11: doTryCatch\n",
      "     10: tryCatchOne\n",
      "      9: tryCatchList\n",
      "      8: doTryCatch\n",
      "      7: tryCatchOne\n",
      "      6: tryCatchList\n",
      "      5: tryCatch\n",
      "      4: executor$execute\n",
      "      3: handle_shell\n",
      "      2: kernel$run\n",
      "      1: IRkernel::main\n",
      "Warning message in RUVrinv(Y, X, ctl):\n",
      "“Neither lambda nor k are specified, so a call to getK will be made.  But p > 1 and l is not specified.  Arbitrarily setting l = 1.”"
     ]
    }
   ],
   "source": [
    "ruv_shiny(Y.raw, sampleinfo, geneinfo)"
   ]
  }
 ],
 "metadata": {
  "kernelspec": {
   "display_name": "R",
   "language": "R",
   "name": "ir"
  },
  "language_info": {
   "codemirror_mode": "r",
   "file_extension": ".r",
   "mimetype": "text/x-r-source",
   "name": "R",
   "pygments_lexer": "r",
   "version": "3.4.3"
  }
 },
 "nbformat": 4,
 "nbformat_minor": 2
}
