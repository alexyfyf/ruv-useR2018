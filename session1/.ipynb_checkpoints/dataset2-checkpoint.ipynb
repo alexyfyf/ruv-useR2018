{
 "cells": [
  {
   "cell_type": "code",
   "execution_count": 1,
   "metadata": {},
   "outputs": [
    {
     "name": "stderr",
     "output_type": "stream",
     "text": [
      "Loading required package: mgcv\n",
      "Loading required package: nlme\n",
      "This is mgcv 1.8-23. For overview type 'help(\"mgcv-package\")'.\n",
      "Loading required package: genefilter\n",
      "Loading required package: BiocParallel\n"
     ]
    }
   ],
   "source": [
    "library(ruv)\n",
    "library(gridExtra)\n",
    "library(sva)\n",
    "load(\"gender.rda\")"
   ]
  },
  {
   "cell_type": "code",
   "execution_count": 2,
   "metadata": {},
   "outputs": [],
   "source": [
    "ruv.sva = function(Y, X, Z=1, Z0=1, svamethod=\"irw\", k=NULL, iter=5) #or \"two-step\"\n",
    "{\n",
    "  ### Define some variables ###\n",
    "  m = nrow(Y)\n",
    "  n = ncol(Y)\n",
    "  p = ncol(X)\n",
    "  if (is.null(Z)) q = 0\n",
    "  else if (length(Z) == 1) {if (Z==1)  \n",
    "  {\n",
    "    Z = matrix(1,m,1)\n",
    "    q = 1\n",
    "  }}\n",
    "  else q = ncol(Z)\n",
    "  if (length(Z0) == 1) if (Z0==1) Z0 = matrix(1,m,1) \n",
    "  ### Do SVA ###\n",
    "  XZ = cbind(X, Z)\n",
    "  svaobj = try(sva(t(Y), XZ, Z0, method=svamethod, n.sv=k, B=iter)) \n",
    "  if(class(svaobj) == \"try-error\") \n",
    "  {\n",
    "    return (list(betahat=matrix(NA,p,n), sigma2=rep(NA,n), t=matrix(NA,p,n), p=matrix(NA,p,n), rep(NA,p), df=NA, \n",
    "            W=NULL, alpha=NULL, byx=NULL, bwx=NULL, X=X, k=k, ctl=NULL, Z=Z, fullW=NULL))\n",
    "  } \n",
    "  k = svaobj$n.sv ## OK\n",
    "  W = svaobj$sv ## OK\n",
    "  ### Standard Regression\n",
    "  XZW = cbind(X,Z,W)\n",
    "  A = solve(t(XZW)%*%XZW)\n",
    "  betagammaalphahat = A%*%t(XZW)%*%Y\n",
    "  resids = Y - XZW%*%betagammaalphahat\n",
    "  betahat = betagammaalphahat[1:p,,drop=FALSE] ## OK\n",
    "  multiplier = as.matrix(diag(A)[1:p]) ## OK\n",
    "  df = m - p - q - k ## OK\n",
    "  sigma2 = apply(resids^2, 2, sum)/df \n",
    "  sigma2 = as.vector(sigma2) ## OK\n",
    "  se = sqrt(multiplier%*%t(sigma2))\n",
    "  tvals = betahat/se ## OK\n",
    "  pvals = tvals; for (i in 1:nrow(pvals)) pvals[i,] = 2*pt(-abs(tvals[i,]),df) ## OK\n",
    "  ### Note: byx and bwx are left undefined.  Non-trivial.  See package/dev7.\n",
    "  return (list(betahat=betahat, sigma2=sigma2, t=tvals, p=pvals, multiplier=multiplier, df=df, W=W, alpha=NULL, byx=NULL, bwx=NULL, X=X, k=k, ctl=NULL, Z=Z, fullW=NULL))\n",
    "}"
   ]
  },
  {
   "cell_type": "code",
   "execution_count": 3,
   "metadata": {},
   "outputs": [],
   "source": [
    "ruv_plots = function(fit, pctl=NULL)\n",
    "{\n",
    "  rval = list()\n",
    "  rval$hist = ruv_hist(fit)    \n",
    "  rval$ecdf = ruv_ecdf(fit)    \n",
    "  if (!is.null(pctl)) rval$rank = ruv_rankplot(fit, pctl) + coord_cartesian(xlim=c(0,100), ylim=c(0,40))   \n",
    "  else rval$rank=NA\n",
    "  #if (!is.null(fit$misc$ppalpha)) rval$proj = ruv_projectionplot(fit)    \n",
    "  #else rval$proj=NA\n",
    "#  rval$vol  = ruv_volcano(fit)    \n",
    "#  rval$var  = ruv_varianceplot(fit)   \n",
    "  return(rval)\n",
    "}"
   ]
  },
  {
   "cell_type": "code",
   "execution_count": 4,
   "metadata": {},
   "outputs": [],
   "source": [
    "if(F)\n",
    "{\n",
    "  keep = rep(T,84)\n",
    "  keep[sampleinfo$lab==\"Davis\" & sampleinfo$gender==\"male\"] = FALSE\n",
    "  keep[sampleinfo$lab==\"Irvine\" & sampleinfo$gender==\"female\"] = FALSE\n",
    "}"
   ]
  },
  {
   "cell_type": "code",
   "execution_count": 5,
   "metadata": {},
   "outputs": [],
   "source": [
    "if(T)  # Good option\n",
    "{\n",
    "  keep = rep(T,84)\n",
    "  keep[sampleinfo$lab==\"Davis\" & sampleinfo$gender==\"male\"] = FALSE\n",
    "  keep[sampleinfo$lab==\"Michigan\" & sampleinfo$gender==\"female\"] = FALSE\n",
    "}"
   ]
  },
  {
   "cell_type": "code",
   "execution_count": 6,
   "metadata": {},
   "outputs": [],
   "source": [
    "if(F)  \n",
    "{\n",
    "  keep = rep(T,84)\n",
    "  keep[sampleinfo$lab==\"Davis\" & sampleinfo$gender==\"male\"] = FALSE\n",
    "  keep[sampleinfo$lab==\"Michigan\" & sampleinfo$gender==\"female\"] = FALSE\n",
    "  keep[sampleinfo$lab==\"Irvine\" & sampleinfo$region==\"A.C. cortex\"] = FALSE\n",
    "}"
   ]
  },
  {
   "cell_type": "code",
   "execution_count": 7,
   "metadata": {},
   "outputs": [],
   "source": [
    "if(F) \n",
    "{\n",
    "  keep = rep(T,84)\n",
    "  keep[sampleinfo$lab==\"Davis\" & sampleinfo$gender==\"male\"] = FALSE\n",
    "  keep[sampleinfo$lab==\"Irvine\" & sampleinfo$gender==\"female\"] = FALSE\n",
    "  keep[sampleinfo$lab==\"Michigan\" & sampleinfo$region==\"cerebellum\"] = FALSE\n",
    "}"
   ]
  },
  {
   "cell_type": "code",
   "execution_count": 8,
   "metadata": {},
   "outputs": [],
   "source": [
    "if(F) \n",
    "{\n",
    "  keep = rep(T,84)\n",
    "  keep[sampleinfo$lab==\"Davis\"    & sampleinfo$patient %in% paste0(\"patient_\", c(\"02\", \"05\", \"06\", \"09\"))] = FALSE\n",
    "  keep[sampleinfo$lab==\"Michigan\"   & sampleinfo$patient %in% paste0(\"patient_\", c(\"01\", \"03\", \"04\", \"07\", \"08\", \"10\"))] = FALSE\n",
    "}"
   ]
  },
  {
   "cell_type": "code",
   "execution_count": 9,
   "metadata": {},
   "outputs": [],
   "source": [
    "if(F) \n",
    "{\n",
    "  keep = rep(T,84)\n",
    "  keep[sampleinfo$lab==\"Davis\" & sampleinfo$gender==\"male\" & sampleinfo$region!=\"cerebellum\"] = FALSE\n",
    "  keep[sampleinfo$lab==\"Michigan\" & sampleinfo$gender==\"female\"  & sampleinfo$region!=\"cerebellum\"] = FALSE\n",
    "}"
   ]
  },
  {
   "cell_type": "code",
   "execution_count": 10,
   "metadata": {},
   "outputs": [],
   "source": [
    "if(F) \n",
    "{\n",
    "  keep = rep(T,84)\n",
    "  keep[sampleinfo$lab==\"Davis\" & sampleinfo$gender==\"male\"] = FALSE\n",
    "#  keep[sampleinfo$lab==\"Michigan\" & sampleinfo$gender==\"female\"] = FALSE\n",
    "}"
   ]
  },
  {
   "cell_type": "code",
   "execution_count": 11,
   "metadata": {},
   "outputs": [],
   "source": [
    "if(F) \n",
    "{\n",
    "  keep = rep(T,84)\n",
    "#  keep[sampleinfo$lab==\"Davis\" & sampleinfo$gender==\"male\"] = FALSE\n",
    "  keep[sampleinfo$lab==\"Michigan\" & sampleinfo$gender==\"female\"] = FALSE\n",
    "}"
   ]
  },
  {
   "cell_type": "code",
   "execution_count": 12,
   "metadata": {},
   "outputs": [],
   "source": [
    "if(F) \n",
    "{\n",
    "  keep = rep(T,84)\n",
    "}"
   ]
  },
  {
   "cell_type": "code",
   "execution_count": 13,
   "metadata": {},
   "outputs": [],
   "source": [
    "Y = Y.norm[keep,]\n",
    "sinfo = sampleinfo[keep,]"
   ]
  },
  {
   "cell_type": "code",
   "execution_count": 14,
   "metadata": {},
   "outputs": [
    {
     "name": "stderr",
     "output_type": "stream",
     "text": [
      "Loading required package: ggplot2\n",
      "Loading required package: scales\n"
     ]
    },
    {
     "data": {
      "text/html": [
       "<strong>png:</strong> 2"
      ],
      "text/latex": [
       "\\textbf{png:} 2"
      ],
      "text/markdown": [
       "**png:** 2"
      ],
      "text/plain": [
       "png \n",
       "  2 "
      ]
     },
     "metadata": {},
     "output_type": "display_data"
    }
   ],
   "source": [
    "fit0 = ruv_summary(Y, RUV2(Y, sinfo$gender, geneinfo$hkctl, 0), sinfo, geneinfo)\n",
    "fitlab = ruv_summary(Y, RUV2(Y, sinfo$gender, geneinfo$hkctl, 0, Z=sinfo[,c(\"lab\")]), sinfo, geneinfo)\n",
    "fitchip = ruv_summary(Y, RUV2(Y, sinfo$gender, geneinfo$hkctl, 0, Z=sinfo[,c(\"chip.version\")]), sinfo, geneinfo)\n",
    "fitlabchip = ruv_summary(Y, RUV2(Y, sinfo$gender, geneinfo$hkctl, 0, Z=sinfo[,c(\"lab\", \"chip.version\")]), sinfo, geneinfo)\n",
    "fitrinv = ruv_summary(Y, RUVrinv(Y, sinfo$gender, geneinfo$hkctl), sinfo, geneinfo)\n",
    "\n",
    "M = replicate.matrix(sinfo[,c(\"patient\", \"region\")])\n",
    "YIII = RUVIII(Y,M,geneinfo$hkctl,average=TRUE)\n",
    "sinfoIII = collapse.replicates(sinfo, M)\n",
    "fitruv = ruv_summary(YIII, RUVrinv(YIII, sinfoIII$gender, geneinfo$hkctl), sinfoIII, geneinfo)\n",
    "\n",
    "plots = c(\n",
    "ruv_plots(fit0, \"pctl\"),\n",
    "ruv_plots(fitlab, \"pctl\"),\n",
    "ruv_plots(fitchip, \"pctl\"),\n",
    "ruv_plots(fitlabchip, \"pctl\"),\n",
    "ruv_plots(fitrinv, \"pctl\"),\n",
    "ruv_plots(fitruv, \"pctl\")\n",
    ")\n",
    "pdf(\"norm.pdf\", width=12)\n",
    "grid.arrange(grobs = plots, layout_matrix = matrix(1:18,3,6))\n",
    "dev.off()"
   ]
  },
  {
   "cell_type": "code",
   "execution_count": 15,
   "metadata": {},
   "outputs": [
    {
     "name": "stdout",
     "output_type": "stream",
     "text": [
      "Number of significant surrogate variables is:  7 \n",
      "Iteration (out of 5 ):1  2  3  4  5  "
     ]
    },
    {
     "data": {
      "image/png": "[encoded data removed]",
      "text/plain": [
       "Plot with title “Histogram of a$p”"
      ]
     },
     "metadata": {},
     "output_type": "display_data"
    },
    {
     "data": {
      "image/png": "[encoded data removed]",
      "text/plain": [
       "plot without title"
      ]
     },
     "metadata": {},
     "output_type": "display_data"
    }
   ],
   "source": [
    "a= ruv.sva(Y, design.matrix(sinfo$gender)[,-1,drop=FALSE])\n",
    "hist(a$p, breaks = c(0, 0.001, 0.01, 0.05, seq(0.1, 1, by = 0.1)))\n",
    "ranks = rank(as.vector(a$p), ties.method = \"first\")[geneinfo$pctl]\n",
    "counts = ecdf(ranks)(1:ncol(Y)) * length(ranks)\n",
    "plot(counts[1:100])"
   ]
  },
  {
   "cell_type": "code",
   "execution_count": 16,
   "metadata": {},
   "outputs": [],
   "source": [
    "Y = Y.raw[keep,]"
   ]
  },
  {
   "cell_type": "code",
   "execution_count": 17,
   "metadata": {},
   "outputs": [
    {
     "data": {
      "text/html": [
       "<strong>png:</strong> 2"
      ],
      "text/latex": [
       "\\textbf{png:} 2"
      ],
      "text/markdown": [
       "**png:** 2"
      ],
      "text/plain": [
       "png \n",
       "  2 "
      ]
     },
     "metadata": {},
     "output_type": "display_data"
    }
   ],
   "source": [
    "fit0 = ruv_summary(Y, RUV2(Y, sinfo$gender, geneinfo$hkctl, 0), sinfo, geneinfo)\n",
    "fitlab = ruv_summary(Y, RUV2(Y, sinfo$gender, geneinfo$hkctl, 0, Z=sinfo[,c(\"lab\")]), sinfo, geneinfo)\n",
    "fitchip = ruv_summary(Y, RUV2(Y, sinfo$gender, geneinfo$hkctl, 0, Z=sinfo[,c(\"chip.version\")]), sinfo, geneinfo)\n",
    "fitlabchip = ruv_summary(Y, RUV2(Y, sinfo$gender, geneinfo$hkctl, 0, Z=sinfo[,c(\"lab\", \"chip.version\")]), sinfo, geneinfo)\n",
    "fitrinv = ruv_summary(Y, RUVrinv(Y, sinfo$gender, geneinfo$hkctl), sinfo, geneinfo)\n",
    "\n",
    "M = replicate.matrix(sinfo[,c(\"patient\", \"region\")])\n",
    "YIII = RUVIII(Y,M,geneinfo$hkctl,average=TRUE)\n",
    "sinfoIII = collapse.replicates(sinfo, M)\n",
    "fitruv = ruv_summary(YIII, RUVrinv(YIII, sinfoIII$gender, geneinfo$hkctl), sinfoIII, geneinfo)\n",
    "\n",
    "plots = c(\n",
    "ruv_plots(fit0, \"pctl\"),\n",
    "ruv_plots(fitlab, \"pctl\"),\n",
    "ruv_plots(fitchip, \"pctl\"),\n",
    "ruv_plots(fitlabchip, \"pctl\"),\n",
    "ruv_plots(fitrinv, \"pctl\"),\n",
    "ruv_plots(fitruv, \"pctl\")\n",
    ")\n",
    "pdf(\"raw.pdf\", width=12)\n",
    "grid.arrange(grobs = plots, layout_matrix = matrix(1:18,3,6))\n",
    "dev.off()"
   ]
  },
  {
   "cell_type": "code",
   "execution_count": 18,
   "metadata": {},
   "outputs": [
    {
     "name": "stdout",
     "output_type": "stream",
     "text": [
      "Number of significant surrogate variables is:  1 \n",
      "Iteration (out of 5 ):1  2  3  4  5  "
     ]
    },
    {
     "data": {
      "image/png": "[encoded data removed]",
      "text/plain": [
       "Plot with title “Histogram of a$p”"
      ]
     },
     "metadata": {},
     "output_type": "display_data"
    },
    {
     "data": {
      "image/png": "[encoded data removed]",
      "text/plain": [
       "plot without title"
      ]
     },
     "metadata": {},
     "output_type": "display_data"
    }
   ],
   "source": [
    "a= ruv.sva(Y, design.matrix(sinfo$gender)[,-1,drop=FALSE])\n",
    "hist(a$p, breaks = c(0, 0.001, 0.01, 0.05, seq(0.1, 1, by = 0.1)))\n",
    "ranks = rank(as.vector(a$p), ties.method = \"first\")[geneinfo$pctl]\n",
    "counts = ecdf(ranks)(1:ncol(Y)) * length(ranks)\n",
    "plot(counts[1:100])"
   ]
  }
 ],
 "metadata": {
  "kernelspec": {
   "display_name": "R",
   "language": "R",
   "name": "ir"
  },
  "language_info": {
   "codemirror_mode": "r",
   "file_extension": ".r",
   "mimetype": "text/x-r-source",
   "name": "R",
   "pygments_lexer": "r",
   "version": "3.4.3"
  }
 },
 "nbformat": 4,
 "nbformat_minor": 2
}
