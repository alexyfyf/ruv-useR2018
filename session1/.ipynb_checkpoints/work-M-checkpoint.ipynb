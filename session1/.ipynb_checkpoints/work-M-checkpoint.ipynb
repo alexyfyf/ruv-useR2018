{
 "cells": [
  {
   "cell_type": "code",
   "execution_count": 4,
   "metadata": {},
   "outputs": [],
   "source": [
    "library(ggplot2)\n",
    "library(ruv)\n",
    "load(\"gender.rda\")"
   ]
  },
  {
   "cell_type": "code",
   "execution_count": 40,
   "metadata": {},
   "outputs": [],
   "source": [
    "matrixplot = function(a, colors)\n",
    "{\n",
    "    mat = a[[1]]\n",
    "    y = rep(rep(nrow(mat):1, ncol(mat)), length(a))\n",
    "    x = rep(rep(1:ncol(mat), each=nrow(mat)), length(a))\n",
    "    z = as.vector(a[[1]])\n",
    "    group = rep(1:length(a), each=length(z))\n",
    "    if (length(a)>1) for (i in 2:length(a)) z = c(z, as.vector(a[[i]]))\n",
    "    df = data.frame(x=x, y=y, z=z, group=as.factor(group))\n",
    "    df$z = df$z/max(df$z)\n",
    "    gg = ggplot(df, aes(x=x, y=y)) +\n",
    "      theme_classic() + \n",
    "      theme(axis.line=element_blank(), axis.title=element_blank(), \n",
    "            axis.text=element_blank(), axis.ticks=element_blank(),\n",
    "            panel.grid.major = element_blank(),\n",
    "            panel.grid.minor = element_blank(),\n",
    "            panel.border = element_blank(),\n",
    "            panel.background = element_blank()) +\n",
    "      guides(alpha=FALSE, fill=FALSE) +\n",
    "      geom_raster() +\n",
    "      aes(fill=group, alpha=z) +\n",
    "      scale_fill_manual(values=colors) +\n",
    "      geom_tile(colour=\"gray\", size=3) +\n",
    "      theme(panel.background = element_rect(fill = 'black')) + \n",
    "      coord_cartesian(xlim=c(.5,ncol(mat)+.5), ylim=c(.5,nrow(mat)+.5), expand=FALSE) + \n",
    "      scale_alpha_identity()\n",
    "    return(gg)\n",
    "}"
   ]
  },
  {
   "cell_type": "code",
   "execution_count": 41,
   "metadata": {},
   "outputs": [],
   "source": [
    "PN = 30"
   ]
  },
  {
   "cell_type": "code",
   "execution_count": 42,
   "metadata": {},
   "outputs": [
    {
     "data": {
      "text/html": [
       "<strong>png:</strong> 2"
      ],
      "text/latex": [
       "\\textbf{png:} 2"
      ],
      "text/markdown": [
       "**png:** 2"
      ],
      "text/plain": [
       "png \n",
       "  2 "
      ]
     },
     "metadata": {},
     "output_type": "display_data"
    }
   ],
   "source": [
    "M = replicate.matrix(sampleinfo[,c(\"patient\",\"region\")])\n",
    "png(\"patient_region.png\",height=nrow(M)*PN, width=ncol(M)*PN)\n",
    "print(matrixplot(list(M), \"white\"))\n",
    "dev.off()"
   ]
  },
  {
   "cell_type": "code",
   "execution_count": 43,
   "metadata": {},
   "outputs": [
    {
     "data": {
      "text/html": [
       "<strong>png:</strong> 2"
      ],
      "text/latex": [
       "\\textbf{png:} 2"
      ],
      "text/markdown": [
       "**png:** 2"
      ],
      "text/plain": [
       "png \n",
       "  2 "
      ]
     },
     "metadata": {},
     "output_type": "display_data"
    }
   ],
   "source": [
    "M = replicate.matrix(sampleinfo[,c(\"patient\")])\n",
    "png(\"patient.png\",height=nrow(M)*PN, width=ncol(M)*PN)\n",
    "print(matrixplot(list(M), \"white\"))\n",
    "dev.off()"
   ]
  },
  {
   "cell_type": "code",
   "execution_count": 44,
   "metadata": {},
   "outputs": [
    {
     "data": {
      "text/html": [
       "<strong>png:</strong> 2"
      ],
      "text/latex": [
       "\\textbf{png:} 2"
      ],
      "text/markdown": [
       "**png:** 2"
      ],
      "text/plain": [
       "png \n",
       "  2 "
      ]
     },
     "metadata": {},
     "output_type": "display_data"
    }
   ],
   "source": [
    "M = replicate.matrix(sampleinfo[,c(\"region\")])\n",
    "png(\"region.png\",height=nrow(M)*PN, width=ncol(M)*PN)\n",
    "print(matrixplot(list(M), \"white\"))\n",
    "dev.off()"
   ]
  },
  {
   "cell_type": "code",
   "execution_count": 45,
   "metadata": {},
   "outputs": [
    {
     "data": {
      "text/html": [
       "<strong>png:</strong> 2"
      ],
      "text/latex": [
       "\\textbf{png:} 2"
      ],
      "text/markdown": [
       "**png:** 2"
      ],
      "text/plain": [
       "png \n",
       "  2 "
      ]
     },
     "metadata": {},
     "output_type": "display_data"
    }
   ],
   "source": [
    "M = replicate.matrix(sampleinfo[,c(\"region\")], burst=c(\"cerebellum\", \"D.L.P.F..cortex\"))\n",
    "png(\"region_burst.png\",height=nrow(M)*PN, width=ncol(M)*PN)\n",
    "print(matrixplot(list(M), \"white\"))\n",
    "dev.off()"
   ]
  },
  {
   "cell_type": "code",
   "execution_count": 53,
   "metadata": {},
   "outputs": [],
   "source": [
    "PN=1"
   ]
  },
  {
   "cell_type": "code",
   "execution_count": 59,
   "metadata": {},
   "outputs": [
    {
     "data": {
      "text/html": [
       "<strong>png:</strong> 2"
      ],
      "text/latex": [
       "\\textbf{png:} 2"
      ],
      "text/markdown": [
       "**png:** 2"
      ],
      "text/plain": [
       "png \n",
       "  2 "
      ]
     },
     "metadata": {},
     "output_type": "display_data"
    }
   ],
   "source": [
    "M = replicate.matrix(sampleinfo[,c(\"patient\",\"region\")])\n",
    "cairo_ps(\"patient_region.ps\",height=nrow(M)*PN, width=ncol(M)*PN)\n",
    "print(matrixplot(list(M), \"white\"))\n",
    "dev.off()"
   ]
  },
  {
   "cell_type": "code",
   "execution_count": 52,
   "metadata": {},
   "outputs": [],
   "source": [
    "?svg"
   ]
  }
 ],
 "metadata": {
  "kernelspec": {
   "display_name": "R",
   "language": "R",
   "name": "ir"
  },
  "language_info": {
   "codemirror_mode": "r",
   "file_extension": ".r",
   "mimetype": "text/x-r-source",
   "name": "R",
   "pygments_lexer": "r",
   "version": "3.4.3"
  }
 },
 "nbformat": 4,
 "nbformat_minor": 2
}
