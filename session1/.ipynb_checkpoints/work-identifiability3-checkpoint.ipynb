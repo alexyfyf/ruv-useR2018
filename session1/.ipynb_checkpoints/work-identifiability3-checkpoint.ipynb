{
 "cells": [
  {
   "cell_type": "code",
   "execution_count": 1,
   "metadata": {},
   "outputs": [],
   "source": [
    "library(ggplot2)"
   ]
  },
  {
   "cell_type": "code",
   "execution_count": 2,
   "metadata": {
    "scrolled": false
   },
   "outputs": [],
   "source": [
    "set.seed(12345)\n",
    "reorder = c(1,2,6,7,5,8,3,4,10)\n",
    "X = matrix(rep(c(.1,.5), each=6))\n",
    "X = X[reorder,,drop=FALSE]\n",
    "b = runif(15)*.5; b[c(3,6,7,11,14)] = 0; b = t(b)\n",
    "set.seed(555555)\n",
    "W = matrix(runif(12) + 1)/2\n",
    "W = W[reorder,,drop=FALSE]\n",
    "a = runif(15); a = t(a)*.5\n",
    "xb = X%*%b\n",
    "wa = W%*%a\n",
    "Y = xb+wa\n",
    "b2 = b + a\n",
    "W2 = W - X\n",
    "xb2 = X%*%b2\n",
    "wa2 = W2%*%a\n",
    "Y2 = xb2 + wa2"
   ]
  },
  {
   "cell_type": "code",
   "execution_count": 3,
   "metadata": {},
   "outputs": [],
   "source": [
    "matrixplot = function(a, colors)\n",
    "{\n",
    "    mat = a[[1]]\n",
    "    y = rep(rep(nrow(mat):1, ncol(mat)), length(a))\n",
    "    x = rep(rep(1:ncol(mat), each=nrow(mat)), length(a))\n",
    "    z = as.vector(a[[1]])\n",
    "    group = rep(1:length(a), each=length(z))\n",
    "    if (length(a)>1) for (i in 2:length(a)) z = c(z, as.vector(a[[i]]))\n",
    "    df = data.frame(x=x, y=y, z=z, group=as.factor(group))\n",
    "    df$z = df$z/max(df$z)/10\n",
    "    df = rbind(df,df,df,df,df,df,df,df,df,df)\n",
    "    gg = ggplot(df, aes(x=x, y=y)) +\n",
    "      theme_classic() + \n",
    "      theme(axis.line=element_blank(), axis.title=element_blank(), \n",
    "            axis.text=element_blank(), axis.ticks=element_blank(),\n",
    "            panel.grid.major = element_blank(),\n",
    "            panel.grid.minor = element_blank(),\n",
    "            panel.border = element_blank(),\n",
    "            panel.background = element_blank()) +\n",
    "      guides(alpha=FALSE, fill=FALSE) +\n",
    "      geom_raster() +\n",
    "      aes(fill=group, alpha=z) +\n",
    "      scale_fill_manual(values=colors) +\n",
    "      geom_tile(colour=\"gray\", size=3) +\n",
    "      theme(panel.background = element_rect(fill = 'black')) + \n",
    "      coord_cartesian(xlim=c(.5,ncol(mat)+.5), ylim=c(.5,nrow(mat)+.5), expand=FALSE) + \n",
    "      scale_alpha_identity()\n",
    "    return(gg)\n",
    "}\n",
    "\n",
    "pngmatplot = function(a, colors, filename)\n",
    "{\n",
    "    N = 30\n",
    "    filename = paste0(filename,\".png\")\n",
    "    print(filename)\n",
    "    png(filename=filename, width=ncol(a[[1]])*N+10, height=nrow(a[[1]])*N+10)\n",
    "    print(matrixplot(a, colors))\n",
    "    dev.off()\n",
    "}"
   ]
  },
  {
   "cell_type": "code",
   "execution_count": 4,
   "metadata": {
    "scrolled": false
   },
   "outputs": [
    {
     "name": "stdout",
     "output_type": "stream",
     "text": [
      "[1] \"X.png\"\n"
     ]
    },
    {
     "ename": "ERROR",
     "evalue": "Error in png(filename = filename, width = ncol(a[[1]]) * N + 10, height = nrow(a[[1]]) * : invalid 'width' argument\n",
     "output_type": "error",
     "traceback": [
      "Error in png(filename = filename, width = ncol(a[[1]]) * N + 10, height = nrow(a[[1]]) * : invalid 'width' argument\nTraceback:\n",
      "1. pngmatplot(list(X), c(\"blue\"), \"X\")",
      "2. png(filename = filename, width = ncol(a[[1]]) * N + 10, height = nrow(a[[1]]) * \n .     N + 10)   # at line 36 of file <text>"
     ]
    }
   ],
   "source": [
    "pngmatplot(list(X), c(\"blue\"), \"X\")\n",
    "pngmatplot(list(b), c(\"blue\"), \"beta\")\n",
    "pngmatplot(list(xb), c(\"blue\"), \"Xbeta\")\n",
    "\n",
    "pngmatplot(list(W), c(\"red\"), \"W\")\n",
    "pngmatplot(list(a), c(\"red\"), \"alpha\")\n",
    "pngmatplot(list(wa), c(\"red\"), \"Walpha\")\n",
    "\n",
    "\n",
    "pngmatplot(list(wa, xb), c(\"red\", \"blue\"), \"Y\")\n",
    "pngmatplot(list(Y), \"white\", \"Ybw\")"
   ]
  },
  {
   "cell_type": "code",
   "execution_count": null,
   "metadata": {
    "scrolled": false
   },
   "outputs": [],
   "source": [
    "pngmatplot(list(b2), c(\"blue\"), \"beta2\")\n",
    "pngmatplot(list(xb2), c(\"blue\"), \"Xbeta2\")\n",
    "\n",
    "pngmatplot(list(W2), c(\"red\"), \"W2\")\n",
    "pngmatplot(list(wa2), c(\"red\"), \"Walpha2\")\n",
    "\n",
    "pngmatplot(list(wa2, xb2), c(\"red\", \"blue\"), \"Y2\")\n",
    "pngmatplot(list(Y2), \"white\", \"Y2bw\")"
   ]
  },
  {
   "cell_type": "code",
   "execution_count": null,
   "metadata": {},
   "outputs": [],
   "source": []
  }
 ],
 "metadata": {
  "kernelspec": {
   "display_name": "R",
   "language": "R",
   "name": "ir"
  },
  "language_info": {
   "codemirror_mode": "r",
   "file_extension": ".r",
   "mimetype": "text/x-r-source",
   "name": "R",
   "pygments_lexer": "r",
   "version": "3.4.3"
  }
 },
 "nbformat": 4,
 "nbformat_minor": 2
}
